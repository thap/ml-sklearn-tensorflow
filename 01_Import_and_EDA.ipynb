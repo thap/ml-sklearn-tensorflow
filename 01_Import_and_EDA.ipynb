{
  "nbformat": 4,
  "nbformat_minor": 0,
  "metadata": {
    "colab": {
      "name": "01 Import and EDA.ipynb",
      "provenance": [],
      "include_colab_link": true
    },
    "kernelspec": {
      "name": "python3",
      "display_name": "Python 3"
    },
    "accelerator": "GPU"
  },
  "cells": [
    {
      "cell_type": "markdown",
      "metadata": {
        "id": "view-in-github",
        "colab_type": "text"
      },
      "source": [
        "<a href=\"https://colab.research.google.com/github/thap/ml-sklearn-tensorflow/blob/master/01_Import_and_EDA.ipynb\" target=\"_parent\"><img src=\"https://colab.research.google.com/assets/colab-badge.svg\" alt=\"Open In Colab\"/></a>"
      ]
    },
    {
      "cell_type": "code",
      "metadata": {
        "id": "kiFJyhUau7NI",
        "colab_type": "code",
        "colab": {
          "base_uri": "https://localhost:8080/",
          "height": 122
        },
        "outputId": "18db1cb0-48a9-4b1f-aa60-7f3015c8a1b2"
      },
      "source": [
        "from google.colab import drive\n",
        "drive.mount('/content/drive')"
      ],
      "execution_count": 1,
      "outputs": [
        {
          "output_type": "stream",
          "text": [
            "Go to this URL in a browser: https://accounts.google.com/o/oauth2/auth?client_id=947318989803-6bn6qk8qdgf4n4g3pfee6491hc0brc4i.apps.googleusercontent.com&redirect_uri=urn%3Aietf%3Awg%3Aoauth%3A2.0%3Aoob&scope=email%20https%3A%2F%2Fwww.googleapis.com%2Fauth%2Fdocs.test%20https%3A%2F%2Fwww.googleapis.com%2Fauth%2Fdrive%20https%3A%2F%2Fwww.googleapis.com%2Fauth%2Fdrive.photos.readonly%20https%3A%2F%2Fwww.googleapis.com%2Fauth%2Fpeopleapi.readonly&response_type=code\n",
            "\n",
            "Enter your authorization code:\n",
            "··········\n",
            "Mounted at /content/drive\n"
          ],
          "name": "stdout"
        }
      ]
    },
    {
      "cell_type": "code",
      "metadata": {
        "id": "XotAH2wtvHH2",
        "colab_type": "code",
        "colab": {
          "base_uri": "https://localhost:8080/",
          "height": 51
        },
        "outputId": "32436f31-a3c1-4947-deaa-3171568430f3"
      },
      "source": [
        "import os\n",
        "os.chdir('/content/drive/My Drive/data/handon-ml/')\n",
        "print(os.getcwd())\n",
        "!ls"
      ],
      "execution_count": 2,
      "outputs": [
        {
          "output_type": "stream",
          "text": [
            "/content/drive/My Drive/data/handon-ml\n",
            "datasets\n"
          ],
          "name": "stdout"
        }
      ]
    },
    {
      "cell_type": "code",
      "metadata": {
        "id": "GVdLrVM9vOQU",
        "colab_type": "code",
        "colab": {}
      },
      "source": [
        "from __future__ import division, print_function, unicode_literals\n",
        "\n",
        "import numpy as np\n",
        "import os\n",
        "np.random.seed(18101988)\n",
        "%matplotlib inline\n",
        "import matplotlib as mpl\n",
        "import matplotlib.pyplot as plt\n",
        "mpl.rc('axes', labelsize=14)\n",
        "mpl.rc('xtick', labelsize=12)\n",
        "mpl.rc('ytick', labelsize=12)\n",
        "\n",
        "PROJECT_ROOT_DIR = '.'\n",
        "CHAPTER_ID = 'fundamentals'\n",
        "\n",
        "def save_fig(fig_id, tight_layout=True):\n",
        "  path = os.path_join(PROJECT_ROOT_DIR, 'images', CHAPTER_ID, fig_id + '.png')\n",
        "  print('Saving figure', fig_id)\n",
        "  if tight_layout:\n",
        "    plt.tight_layout()\n",
        "  plt.savefig(path, format='png', dpi=300)\n",
        "\n",
        "import warnings\n",
        "warnings.filterwarnings(action='ignore', message='internal gelsd')"
      ],
      "execution_count": 0,
      "outputs": []
    },
    {
      "cell_type": "code",
      "metadata": {
        "id": "tM6EHV2Lwk2j",
        "colab_type": "code",
        "colab": {}
      },
      "source": [
        "def prepare_country_stats(oecd_bli, gdp_per_capita):\n",
        "  oecd_bli = oecd_bli[oecd_bli['INEQUALITY'] == 'TOT']\n",
        "  oecd_bli = oecd_bli.pivot(index='Country', columns='Indicator', values='Value')\n",
        "  gdp_per_capita.rename(columns={'2015': 'GDP per capita'}, inplace=True)\n",
        "  gdp_per_capita.set_index('Country', inplace=True)\n",
        "  full_country_stats = pd.merge(left=oecd_bli, right=gdp_per_capita,\n",
        "                                left_index=True, right_index=True)\n",
        "  full_country_stats.sort_values(by='GDP per capita', inplace=True)\n",
        "  remove_indices = [0, 1, 6, 8, 33, 34, 35]\n",
        "  keep_indices = list(set(range(36)) - set(remove_indices))\n",
        "  return full_country_stats[['GDP per capita', 'Life satisfaction']].iloc[keep_indices]\n"
      ],
      "execution_count": 0,
      "outputs": []
    },
    {
      "cell_type": "code",
      "metadata": {
        "id": "Xt_QIWQX0LVw",
        "colab_type": "code",
        "colab": {}
      },
      "source": [
        "import os\n",
        "datapath = os.path.join('datasets', 'lifesat', '')"
      ],
      "execution_count": 0,
      "outputs": []
    },
    {
      "cell_type": "code",
      "metadata": {
        "id": "xlPhR1Fc0YWm",
        "colab_type": "code",
        "colab": {
          "base_uri": "https://localhost:8080/",
          "height": 307
        },
        "outputId": "139b57c5-68cf-4575-ff57-2581e762b64e"
      },
      "source": [
        "import pandas as pd\n",
        "import sklearn.linear_model\n",
        "\n",
        "oecd_bli = pd.read_csv(datapath + 'oecd_bli_2015.csv', thousands=',')\n",
        "gdp_per_capita = pd.read_csv(datapath + 'gdp_per_capita.csv', thousands=',', delimiter='\\t',\n",
        "                             encoding='latin1', na_values='n/a')\n",
        "\n",
        "country_stats = prepare_country_stats(oecd_bli, gdp_per_capita)\n",
        "X = np.c_[country_stats['GDP per capita']]\n",
        "y = np.c_[country_stats['Life satisfaction']]\n",
        "\n",
        "country_stats.plot(kind='scatter', x='GDP per capita', y='Life satisfaction')\n",
        "plt.show()\n",
        "\n",
        "model = sklearn.linear_model.LinearRegression()\n",
        "model.fit(X, y)\n",
        "X_new = [[22587]]\n",
        "print(model.predict(X_new))"
      ],
      "execution_count": 12,
      "outputs": [
        {
          "output_type": "display_data",
          "data": {
            "image/png": "[encoded data removed]",
            "text/plain": [
              "<Figure size 432x288 with 1 Axes>"
            ]
          },
          "metadata": {
            "tags": []
          }
        },
        {
          "output_type": "stream",
          "text": [
            "[[5.96242338]]\n"
          ],
          "name": "stdout"
        }
      ]
    },
    {
      "cell_type": "code",
      "metadata": {
        "id": "IMZ_ktn_2dQd",
        "colab_type": "code",
        "colab": {}
      },
      "source": [
        ""
      ],
      "execution_count": 0,
      "outputs": []
    }
  ]
}